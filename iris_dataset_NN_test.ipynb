{
 "cells": [
  {
   "cell_type": "code",
   "execution_count": 1,
   "metadata": {},
   "outputs": [],
   "source": [
    "import numpy as np\n",
    "from sklearn.datasets import load_iris\n",
    "from sklearn.model_selection import train_test_split\n",
    "from sklearn.preprocessing import StandardScaler, OneHotEncoder\n",
    "from neural_network import NeuralNetwork"
   ]
  },
  {
   "cell_type": "code",
   "execution_count": 3,
   "metadata": {},
   "outputs": [],
   "source": [
    "def prepare_iris_data():\n",
    "    # Load Iris dataset\n",
    "    iris = load_iris()\n",
    "    X = iris.data\n",
    "    y = iris.target\n",
    "\n",
    "    # Standardize features\n",
    "    scaler = StandardScaler()\n",
    "    X_scaled = scaler.fit_transform(X)\n",
    "\n",
    "    # One-hot encode labels\n",
    "    encoder = OneHotEncoder(sparse_output=False)\n",
    "    y_encoded = encoder.fit_transform(y.reshape(-1, 1))\n",
    "\n",
    "    # Split into train and test sets\n",
    "    X_train, X_test, y_train, y_test = train_test_split(X_scaled, y_encoded, test_size=0.2, random_state=42)\n",
    "\n",
    "    return X_train, X_test, y_train, y_test\n"
   ]
  },
  {
   "cell_type": "code",
   "execution_count": 4,
   "metadata": {},
   "outputs": [],
   "source": [
    "X_train, X_test, y_train, y_test = prepare_iris_data()"
   ]
  },
  {
   "cell_type": "code",
   "execution_count": 13,
   "metadata": {},
   "outputs": [],
   "source": [
    "# Create network\n",
    "network = NeuralNetwork(input_size=4, hidden_size=5, output_size=3, activation='softmax')"
   ]
  },
  {
   "cell_type": "code",
   "execution_count": 14,
   "metadata": {},
   "outputs": [
    {
     "name": "stdout",
     "output_type": "stream",
     "text": [
      "Epoch 0, Loss: 0.379574\n",
      "Epoch 10, Loss: 0.233762\n",
      "Epoch 20, Loss: 0.182165\n",
      "Epoch 30, Loss: 0.156985\n",
      "Epoch 40, Loss: 0.142101\n",
      "Epoch 50, Loss: 0.132169\n",
      "Epoch 60, Loss: 0.125050\n",
      "Epoch 70, Loss: 0.119366\n",
      "Epoch 80, Loss: 0.114693\n",
      "Epoch 90, Loss: 0.110688\n",
      "Epoch 100, Loss: 0.107136\n",
      "Epoch 110, Loss: 0.103868\n",
      "Epoch 120, Loss: 0.100870\n",
      "Epoch 130, Loss: 0.098111\n",
      "Epoch 140, Loss: 0.095493\n",
      "Epoch 150, Loss: 0.092961\n",
      "Epoch 160, Loss: 0.090631\n",
      "Epoch 170, Loss: 0.088369\n",
      "Epoch 180, Loss: 0.086209\n",
      "Epoch 190, Loss: 0.084119\n",
      "Epoch 200, Loss: 0.082096\n",
      "Epoch 210, Loss: 0.080188\n",
      "Epoch 220, Loss: 0.078347\n",
      "Epoch 230, Loss: 0.076474\n",
      "Epoch 240, Loss: 0.074610\n",
      "Epoch 250, Loss: 0.072816\n",
      "Epoch 260, Loss: 0.071070\n",
      "Epoch 270, Loss: 0.069401\n",
      "Epoch 280, Loss: 0.067748\n",
      "Epoch 290, Loss: 0.066176\n",
      "Epoch 300, Loss: 0.064665\n",
      "Epoch 310, Loss: 0.063205\n",
      "Epoch 320, Loss: 0.061754\n",
      "Epoch 330, Loss: 0.060348\n",
      "Epoch 340, Loss: 0.058977\n",
      "Epoch 350, Loss: 0.057659\n",
      "Epoch 360, Loss: 0.056417\n",
      "Epoch 370, Loss: 0.055207\n",
      "Epoch 380, Loss: 0.054023\n",
      "Epoch 390, Loss: 0.052889\n",
      "Epoch 400, Loss: 0.051815\n",
      "Epoch 410, Loss: 0.050778\n",
      "Epoch 420, Loss: 0.049777\n",
      "Epoch 430, Loss: 0.048819\n",
      "Epoch 440, Loss: 0.047907\n",
      "Epoch 450, Loss: 0.046993\n",
      "Epoch 460, Loss: 0.046127\n",
      "Epoch 470, Loss: 0.045316\n",
      "Epoch 480, Loss: 0.044542\n",
      "Epoch 490, Loss: 0.043783\n"
     ]
    }
   ],
   "source": [
    "# Train the network\n",
    "network.train(X_train, y_train, epochs=500, learning_rate=0.01, batch_size=16, patience=10)"
   ]
  },
  {
   "cell_type": "code",
   "execution_count": 15,
   "metadata": {},
   "outputs": [
    {
     "data": {
      "text/plain": [
       "array([1, 0, 2, 1, 1, 0, 1, 2, 2, 1, 2, 0, 0, 0, 0, 1, 2, 1, 1, 2, 0, 2,\n",
       "       0, 2, 2, 2, 2, 2, 0, 0])"
      ]
     },
     "execution_count": 15,
     "metadata": {},
     "output_type": "execute_result"
    }
   ],
   "source": [
    "# Predict on test data\n",
    "predictions = network.predict(X_test)\n",
    "predictions"
   ]
  },
  {
   "cell_type": "code",
   "execution_count": 19,
   "metadata": {},
   "outputs": [
    {
     "name": "stdout",
     "output_type": "stream",
     "text": [
      "Accuracy: 96.67%\n"
     ]
    }
   ],
   "source": [
    "# Calculate accuracy\n",
    "true_labels = np.argmax(y_test, axis=1)\n",
    "accuracy = np.mean(predictions == true_labels)\n",
    "print(f'Accuracy: {accuracy * 100:.2f}%')"
   ]
  },
  {
   "cell_type": "code",
   "execution_count": 21,
   "metadata": {},
   "outputs": [
    {
     "name": "stdout",
     "output_type": "stream",
     "text": [
      "\n",
      "Sample Predictions:\n",
      "True: 1, Predicted: 1\n",
      "True: 0, Predicted: 0\n",
      "True: 2, Predicted: 2\n",
      "True: 1, Predicted: 1\n",
      "True: 1, Predicted: 1\n",
      "True: 0, Predicted: 0\n",
      "True: 1, Predicted: 1\n",
      "True: 2, Predicted: 2\n",
      "True: 1, Predicted: 2\n",
      "True: 1, Predicted: 1\n",
      "True: 2, Predicted: 2\n",
      "True: 0, Predicted: 0\n",
      "True: 0, Predicted: 0\n",
      "True: 0, Predicted: 0\n",
      "True: 0, Predicted: 0\n",
      "True: 1, Predicted: 1\n",
      "True: 2, Predicted: 2\n",
      "True: 1, Predicted: 1\n",
      "True: 1, Predicted: 1\n",
      "True: 2, Predicted: 2\n",
      "True: 0, Predicted: 0\n",
      "True: 2, Predicted: 2\n",
      "True: 0, Predicted: 0\n",
      "True: 2, Predicted: 2\n",
      "True: 2, Predicted: 2\n",
      "True: 2, Predicted: 2\n",
      "True: 2, Predicted: 2\n",
      "True: 2, Predicted: 2\n",
      "True: 0, Predicted: 0\n",
      "True: 0, Predicted: 0\n"
     ]
    }
   ],
   "source": [
    "# Print some sample predictions\n",
    "print(\"\\nSample Predictions:\")\n",
    "for i in range(min(100, len(predictions))):\n",
    "    print(f\"True: {true_labels[i]}, Predicted: {predictions[i]}\")"
   ]
  },
  {
   "cell_type": "code",
   "execution_count": null,
   "metadata": {},
   "outputs": [],
   "source": []
  }
 ],
 "metadata": {
  "kernelspec": {
   "display_name": "base",
   "language": "python",
   "name": "python3"
  },
  "language_info": {
   "codemirror_mode": {
    "name": "ipython",
    "version": 3
   },
   "file_extension": ".py",
   "mimetype": "text/x-python",
   "name": "python",
   "nbconvert_exporter": "python",
   "pygments_lexer": "ipython3",
   "version": "3.12.4"
  }
 },
 "nbformat": 4,
 "nbformat_minor": 2
}
